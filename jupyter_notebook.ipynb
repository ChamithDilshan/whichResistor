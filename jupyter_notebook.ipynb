{
 "cells": [
  {
   "cell_type": "code",
   "execution_count": 16,
   "id": "7c5d37ba",
   "metadata": {},
   "outputs": [
    {
     "name": "stdout",
     "output_type": "stream",
     "text": [
      "['red', 'brown', 'brown']\n"
     ]
    }
   ],
   "source": [
    "colorCode = input().split()\n",
    "print(colorCode)"
   ]
  },
  {
   "cell_type": "code",
   "execution_count": 17,
   "id": "f8c3f155",
   "metadata": {},
   "outputs": [],
   "source": [
    "colors = ['black', 'brown', 'red', 'orange', 'yellow', 'green', 'blue', 'violet', 'gray', 'white']\n",
    "\n",
    "tolerences = {\"brown\": \"1%\", \"red\":\"2%\", \"orange\":\"3%\", \"yellow\":\"4%\", \"green\":\"0.5%\", \"blue\":\"0.25%\", \"violet\":\"0.1%\", \"grey\":\"0.05%\", \"gold\":\"5%\"}"
   ]
  },
  {
   "cell_type": "code",
   "execution_count": 18,
   "id": "40f017ff",
   "metadata": {},
   "outputs": [
    {
     "name": "stdout",
     "output_type": "stream",
     "text": [
      "Value =  210\n"
     ]
    }
   ],
   "source": [
    "if len(colorCode) == 3:\n",
    "    resValue = int(str(colors.index(colorCode[0])) + str(colors.index(colorCode[1]))) * (10 ** colors.index(colorCode[2]))\n",
    "    print(\"Value = \", resValue)"
   ]
  },
  {
   "cell_type": "code",
   "execution_count": 19,
   "id": "bcd22f8f",
   "metadata": {},
   "outputs": [],
   "source": [
    "if len(colorCode) == 4:\n",
    "    resValue = int(str(colors.index(colorCode[0])) + str(colors.index(colorCode[1]))) * (10 ** colors.index(colorCode[2]))\n",
    "    print(\"Value = \", resValue)\n",
    "    print(\"Tolerence = \", tolerences[colorCode[-1]])\n",
    "\n"
   ]
  }
 ],
 "metadata": {
  "kernelspec": {
   "display_name": "Python 3 (ipykernel)",
   "language": "python",
   "name": "python3"
  },
  "language_info": {
   "codemirror_mode": {
    "name": "ipython",
    "version": 3
   },
   "file_extension": ".py",
   "mimetype": "text/x-python",
   "name": "python",
   "nbconvert_exporter": "python",
   "pygments_lexer": "ipython3",
   "version": "3.9.1"
  }
 },
 "nbformat": 4,
 "nbformat_minor": 5
}
